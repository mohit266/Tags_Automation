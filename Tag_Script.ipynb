{
 "cells": [
  {
   "cell_type": "code",
   "execution_count": 206,
   "id": "6f126996",
   "metadata": {},
   "outputs": [
    {
     "name": "stdout",
     "output_type": "stream",
     "text": [
      "TagsAutomation\tTag_Script.ipynb\r\n"
     ]
    }
   ],
   "source": [
    "!dir"
   ]
  },
  {
   "cell_type": "code",
   "execution_count": 207,
   "id": "4dd1eef1",
   "metadata": {},
   "outputs": [],
   "source": [
    "import os\n",
    "import yaml\n",
    "from yaml.loader import SafeLoader"
   ]
  },
  {
   "cell_type": "code",
   "execution_count": 208,
   "id": "f112a218",
   "metadata": {},
   "outputs": [],
   "source": [
    "for dirpath, dirs, files in os.walk(\".\"):\n",
    "    for filename in files:\n",
    "        if filename == \"TagManager.asset\":\n",
    "            fname = os.path.join(dirpath, filename)\n",
    "            skip_lines = 3\n",
    "            with open(fname) as f:\n",
    "                for i in range(skip_lines):\n",
    "                    _ = f.readline()\n",
    "                fruits_list = yaml.load(f, Loader=yaml.FullLoader)\n",
    "                di = fruits_list.get('TagManager')\n",
    "                tags_list = di.get('tags')\n",
    "                del(di)"
   ]
  },
  {
   "cell_type": "code",
   "execution_count": 209,
   "id": "2d272a77",
   "metadata": {},
   "outputs": [
    {
     "data": {
      "text/plain": [
       "['Car', 'Plain', 'Steel', 'Gold']"
      ]
     },
     "execution_count": 209,
     "metadata": {},
     "output_type": "execute_result"
    }
   ],
   "source": [
    "tags_list"
   ]
  },
  {
   "cell_type": "code",
   "execution_count": 210,
   "id": "b06c3a1b",
   "metadata": {},
   "outputs": [],
   "source": [
    "new_tag_dict = {}\n",
    "\n",
    "for i in range(len(tags_list)):\n",
    "    new_tag_dict[\"m_TagString: \" + tags_list[i]] = \"m_TagString: Tag \" + str(i)"
   ]
  },
  {
   "cell_type": "code",
   "execution_count": 211,
   "id": "f6d0ad78",
   "metadata": {},
   "outputs": [
    {
     "data": {
      "text/plain": [
       "{'m_TagString: Car': 'm_TagString: Tag 0',\n",
       " 'm_TagString: Plain': 'm_TagString: Tag 1',\n",
       " 'm_TagString: Steel': 'm_TagString: Tag 2',\n",
       " 'm_TagString: Gold': 'm_TagString: Tag 3'}"
      ]
     },
     "execution_count": 211,
     "metadata": {},
     "output_type": "execute_result"
    }
   ],
   "source": [
    "new_tag_dict"
   ]
  },
  {
   "cell_type": "code",
   "execution_count": 212,
   "id": "7e7d40e8",
   "metadata": {},
   "outputs": [],
   "source": [
    "# for key, value in new_tag_dict.items():\n",
    "#     print(f\"Key --> {key} && Value --> {value}\")"
   ]
  },
  {
   "cell_type": "code",
   "execution_count": 213,
   "id": "ed5927c5",
   "metadata": {},
   "outputs": [],
   "source": [
    "tags_dict = {}\n",
    "\n",
    "for i in range(len(tags_list)):\n",
    "    tags_dict[\"Tag \" + str(i)] = tags_list[i]"
   ]
  },
  {
   "cell_type": "code",
   "execution_count": 214,
   "id": "209aa511",
   "metadata": {},
   "outputs": [
    {
     "data": {
      "text/plain": [
       "{'Tag 0': 'Car', 'Tag 1': 'Plain', 'Tag 2': 'Steel', 'Tag 3': 'Gold'}"
      ]
     },
     "execution_count": 214,
     "metadata": {},
     "output_type": "execute_result"
    }
   ],
   "source": [
    "tags_dict"
   ]
  },
  {
   "cell_type": "code",
   "execution_count": 246,
   "id": "7f69f79f",
   "metadata": {},
   "outputs": [],
   "source": [
    "# for i in new_tag_dict:\n",
    "#     print(i)"
   ]
  },
  {
   "cell_type": "code",
   "execution_count": 243,
   "id": "71420a2e",
   "metadata": {},
   "outputs": [],
   "source": [
    "# def get_key(val):\n",
    "#     for key, value in tags_dict.items():\n",
    "#         if val == value:\n",
    "#             return key"
   ]
  },
  {
   "cell_type": "code",
   "execution_count": 245,
   "id": "d03cb901",
   "metadata": {},
   "outputs": [],
   "source": [
    "# get_key('Car')"
   ]
  },
  {
   "cell_type": "code",
   "execution_count": 218,
   "id": "e7528e09",
   "metadata": {},
   "outputs": [],
   "source": [
    "file_path_list = []\n",
    "\n",
    "for dirpath, dirs, files in os.walk(\".\"):\n",
    "    for filename in files:\n",
    "        if filename.endswith('.unity') or filename.endswith('.prefab'):\n",
    "            fname = os.path.join(dirpath, filename)\n",
    "            file_path_list.append(fname)\n",
    "            \n",
    "for file in file_path_list:    \n",
    "    for key, value in new_tag_dict.items():\n",
    "        # For Reading file data\n",
    "        f_open = open(file, \"rt\")\n",
    "        data = f_open.read()\n",
    "        data = data.replace(key, value)\n",
    "        f_open.close()\n",
    "        # For Writing replaced data\n",
    "        f_open = open(file, \"wt\")\n",
    "        f_open.write(data)\n",
    "        f_open.close()\n",
    "            "
   ]
  },
  {
   "cell_type": "code",
   "execution_count": null,
   "id": "2d2f4fca",
   "metadata": {},
   "outputs": [],
   "source": []
  },
  {
   "cell_type": "code",
   "execution_count": 242,
   "id": "a974b111",
   "metadata": {},
   "outputs": [],
   "source": [
    "def Update_Tag_Manager(temp_data):\n",
    "    Tag_Manager_Dict = {'  - Tag 0\\n': '  - Car\\n',\n",
    "                        '  - Tag 1\\n': '  - Plain\\n', \n",
    "                        '  - Tag 2\\n': '  - Steel\\n',\n",
    "                        '  - Tag 3\\n': '  - Gold\\n'}\n",
    "    \n",
    "    for index, name in enumerate(temp_data):\n",
    "        if name == '  tags:\\n':\n",
    "            Tag_index = index\n",
    "    for i in range(1, len(tags_list)+1):\n",
    "        for key, value in Tag_Manager_Dict.items():\n",
    "            if temp_data[Tag_index + i] == value:\n",
    "                temp_data[Tag_index + i] = key\n",
    "    \n",
    "    data = \"\"\n",
    "    for i in temp_data:\n",
    "        data += i\n",
    "\n",
    "    return data"
   ]
  },
  {
   "cell_type": "code",
   "execution_count": null,
   "id": "07209bc1",
   "metadata": {},
   "outputs": [],
   "source": []
  },
  {
   "cell_type": "code",
   "execution_count": 234,
   "id": "857a70a0",
   "metadata": {},
   "outputs": [],
   "source": [
    "for dirpath, dirs, files in os.walk(\".\"):\n",
    "    for filename in files:\n",
    "        if filename == \"TagManager.asset\":\n",
    "            fname = os.path.join(dirpath, filename)\n",
    "            \n",
    "            f_open = open(fname, \"rt\")\n",
    "            temp_data = f_open.readlines()            \n",
    "            f_open.close()\n",
    "            \n",
    "            # For Writing replaced data\n",
    "            f_open = open(fname, \"wt\")\n",
    "            f_open.write(Update_Tag_Manager(temp_data))\n",
    "            f_open.close()\n",
    "            \n",
    "            "
   ]
  },
  {
   "cell_type": "code",
   "execution_count": 236,
   "id": "37f50679",
   "metadata": {},
   "outputs": [],
   "source": []
  },
  {
   "cell_type": "code",
   "execution_count": 241,
   "id": "6210a78e",
   "metadata": {},
   "outputs": [],
   "source": []
  },
  {
   "cell_type": "code",
   "execution_count": null,
   "id": "844c9e16",
   "metadata": {},
   "outputs": [],
   "source": []
  },
  {
   "cell_type": "code",
   "execution_count": null,
   "id": "e053a7a5",
   "metadata": {},
   "outputs": [],
   "source": []
  },
  {
   "cell_type": "code",
   "execution_count": null,
   "id": "17f18720",
   "metadata": {},
   "outputs": [],
   "source": []
  },
  {
   "cell_type": "code",
   "execution_count": null,
   "id": "15986609",
   "metadata": {},
   "outputs": [],
   "source": []
  }
 ],
 "metadata": {
  "kernelspec": {
   "display_name": "Python 3 (ipykernel)",
   "language": "python",
   "name": "python3"
  },
  "language_info": {
   "codemirror_mode": {
    "name": "ipython",
    "version": 3
   },
   "file_extension": ".py",
   "mimetype": "text/x-python",
   "name": "python",
   "nbconvert_exporter": "python",
   "pygments_lexer": "ipython3",
   "version": "3.8.10"
  }
 },
 "nbformat": 4,
 "nbformat_minor": 5
}
